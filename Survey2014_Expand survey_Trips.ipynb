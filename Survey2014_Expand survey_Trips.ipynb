{
 "cells": [
  {
   "cell_type": "code",
   "execution_count": 1,
   "metadata": {
    "collapsed": true
   },
   "outputs": [],
   "source": [
    "import pandas as pd\n",
    "import numpy as np \n",
    "import h5py"
   ]
  },
  {
   "cell_type": "code",
   "execution_count": null,
   "metadata": {
    "collapsed": true
   },
   "outputs": [],
   "source": [
    "survey_loc = 'R:/SoundCast/estimation/2014/'"
   ]
  },
  {
   "cell_type": "code",
   "execution_count": null,
   "metadata": {
    "collapsed": true
   },
   "outputs": [],
   "source": [
    "trips=open(survey_loc + 'tripP2.dat', 'r')\n",
    "lines = np.asarray(trips.read().split('\\n'))\n",
    "lines[1]"
   ]
  },
  {
   "cell_type": "code",
   "execution_count": null,
   "metadata": {
    "collapsed": true
   },
   "outputs": [],
   "source": [
    "df_array = np.asarray(lines[0].split(' ')) #create a master array, which uses the first line as the form\n",
    "for j in range(1,len(lines)-1): \n",
    "    subarray = np.asarray(lines[j].split(' '))\n",
    "    factor = abs(int(round(float(subarray[-1]),0))) \n",
    "    #print factor\n",
    "    subarray = [subarray]*factor #copy the sample 'factor' times\n",
    "    df_array = np.vstack((df_array, subarray)) #merge the expanded sample into the master array\n",
    "    #print len(df_array)\n",
    "print len(df_array)\n",
    "\n",
    "#output=pd.DataFrame(df_array[1:-1], columns=lines[0].split(' '))\n",
    "#output.to_hdf('R:/SoundCast/estimation/2014/survey14_expanded.h5','precp2_expanded',append=True)\n"
   ]
  },
  {
   "cell_type": "code",
   "execution_count": 7,
   "metadata": {
    "collapsed": true
   },
   "outputs": [],
   "source": [
    "output=pd.DataFrame(df_array[1:-1], columns=lines[0].split(' '))\n",
    "output.to_csv('R:/SoundCast/estimation/2014/expanded/Trip.csv')"
   ]
  },
  {
   "cell_type": "code",
   "execution_count": 8,
   "metadata": {
    "collapsed": false
   },
   "outputs": [
    {
     "name": "stdout",
     "output_type": "stream",
     "text": [
      "/hhno\n",
      "/pno\n",
      "/day\n",
      "/tour\n",
      "/half\n",
      "/tseg\n",
      "/tsvid\n",
      "/opurp\n",
      "/dpurp\n",
      "/oadtyp\n",
      "/dadtyp\n",
      "/opcl\n",
      "/otaz\n",
      "/dpcl\n",
      "/dtaz\n",
      "/mode\n",
      "/pathtype\n",
      "/dorp\n",
      "/deptm\n",
      "/arrtm\n",
      "/endacttm\n",
      "/travtime\n",
      "/travcost\n",
      "/travdist\n",
      "/trexpfac\n"
     ]
    }
   ],
   "source": [
    "Trip = pd.read_csv(r'R:\\SoundCast\\estimation\\2014\\expanded\\Trip.csv', sep=',')\n",
    "f = h5py.File('R:/SoundCast/estimation/2014/expanded/Trip.h5', 'w-')\n",
    "for column in output.columns: \n",
    "    dset = f.create_dataset(column, data=list(Trip[column]))\n",
    "    print dset.name\n",
    "f.close()"
   ]
  },
  {
   "cell_type": "code",
   "execution_count": null,
   "metadata": {
    "collapsed": true
   },
   "outputs": [],
   "source": []
  }
 ],
 "metadata": {
  "kernelspec": {
   "display_name": "Python 2",
   "language": "python",
   "name": "python2"
  },
  "language_info": {
   "codemirror_mode": {
    "name": "ipython",
    "version": 2
   },
   "file_extension": ".py",
   "mimetype": "text/x-python",
   "name": "python",
   "nbconvert_exporter": "python",
   "pygments_lexer": "ipython2",
   "version": "2.7.11"
  }
 },
 "nbformat": 4,
 "nbformat_minor": 0
}
